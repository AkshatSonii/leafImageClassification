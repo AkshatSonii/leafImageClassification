{
 "cells": [
  {
   "cell_type": "code",
   "execution_count": 1,
   "metadata": {},
   "outputs": [
    {
     "name": "stdout",
     "output_type": "stream",
     "text": [
      "Requirement already satisfied: tensorflow in c:\\users\\aksha\\appdata\\local\\programs\\python\\python311\\lib\\site-packages (2.15.0)\n",
      "Requirement already satisfied: tensorflow-intel==2.15.0 in c:\\users\\aksha\\appdata\\local\\programs\\python\\python311\\lib\\site-packages (from tensorflow) (2.15.0)\n",
      "Requirement already satisfied: absl-py>=1.0.0 in c:\\users\\aksha\\appdata\\local\\programs\\python\\python311\\lib\\site-packages (from tensorflow-intel==2.15.0->tensorflow) (2.0.0)\n",
      "Requirement already satisfied: astunparse>=1.6.0 in c:\\users\\aksha\\appdata\\local\\programs\\python\\python311\\lib\\site-packages (from tensorflow-intel==2.15.0->tensorflow) (1.6.3)\n",
      "Requirement already satisfied: flatbuffers>=23.5.26 in c:\\users\\aksha\\appdata\\local\\programs\\python\\python311\\lib\\site-packages (from tensorflow-intel==2.15.0->tensorflow) (23.5.26)\n",
      "Requirement already satisfied: gast!=0.5.0,!=0.5.1,!=0.5.2,>=0.2.1 in c:\\users\\aksha\\appdata\\local\\programs\\python\\python311\\lib\\site-packages (from tensorflow-intel==2.15.0->tensorflow) (0.5.4)\n",
      "Requirement already satisfied: google-pasta>=0.1.1 in c:\\users\\aksha\\appdata\\local\\programs\\python\\python311\\lib\\site-packages (from tensorflow-intel==2.15.0->tensorflow) (0.2.0)\n",
      "Requirement already satisfied: h5py>=2.9.0 in c:\\users\\aksha\\appdata\\local\\programs\\python\\python311\\lib\\site-packages (from tensorflow-intel==2.15.0->tensorflow) (3.10.0)\n",
      "Requirement already satisfied: libclang>=13.0.0 in c:\\users\\aksha\\appdata\\local\\programs\\python\\python311\\lib\\site-packages (from tensorflow-intel==2.15.0->tensorflow) (16.0.6)\n",
      "Requirement already satisfied: ml-dtypes~=0.2.0 in c:\\users\\aksha\\appdata\\local\\programs\\python\\python311\\lib\\site-packages (from tensorflow-intel==2.15.0->tensorflow) (0.2.0)\n",
      "Requirement already satisfied: numpy<2.0.0,>=1.23.5 in c:\\users\\aksha\\appdata\\local\\programs\\python\\python311\\lib\\site-packages (from tensorflow-intel==2.15.0->tensorflow) (1.26.2)\n",
      "Requirement already satisfied: opt-einsum>=2.3.2 in c:\\users\\aksha\\appdata\\local\\programs\\python\\python311\\lib\\site-packages (from tensorflow-intel==2.15.0->tensorflow) (3.3.0)\n",
      "Requirement already satisfied: packaging in c:\\users\\aksha\\appdata\\roaming\\python\\python311\\site-packages (from tensorflow-intel==2.15.0->tensorflow) (23.2)\n",
      "Requirement already satisfied: protobuf!=4.21.0,!=4.21.1,!=4.21.2,!=4.21.3,!=4.21.4,!=4.21.5,<5.0.0dev,>=3.20.3 in c:\\users\\aksha\\appdata\\local\\programs\\python\\python311\\lib\\site-packages (from tensorflow-intel==2.15.0->tensorflow) (4.23.4)\n",
      "Requirement already satisfied: setuptools in c:\\users\\aksha\\appdata\\local\\programs\\python\\python311\\lib\\site-packages (from tensorflow-intel==2.15.0->tensorflow) (65.5.0)\n",
      "Requirement already satisfied: six>=1.12.0 in c:\\users\\aksha\\appdata\\roaming\\python\\python311\\site-packages (from tensorflow-intel==2.15.0->tensorflow) (1.16.0)\n",
      "Requirement already satisfied: termcolor>=1.1.0 in c:\\users\\aksha\\appdata\\local\\programs\\python\\python311\\lib\\site-packages (from tensorflow-intel==2.15.0->tensorflow) (2.3.0)\n",
      "Requirement already satisfied: typing-extensions>=3.6.6 in c:\\users\\aksha\\appdata\\local\\programs\\python\\python311\\lib\\site-packages (from tensorflow-intel==2.15.0->tensorflow) (4.8.0)\n",
      "Requirement already satisfied: wrapt<1.15,>=1.11.0 in c:\\users\\aksha\\appdata\\local\\programs\\python\\python311\\lib\\site-packages (from tensorflow-intel==2.15.0->tensorflow) (1.14.1)\n",
      "Requirement already satisfied: tensorflow-io-gcs-filesystem>=0.23.1 in c:\\users\\aksha\\appdata\\local\\programs\\python\\python311\\lib\\site-packages (from tensorflow-intel==2.15.0->tensorflow) (0.31.0)\n",
      "Requirement already satisfied: grpcio<2.0,>=1.24.3 in c:\\users\\aksha\\appdata\\local\\programs\\python\\python311\\lib\\site-packages (from tensorflow-intel==2.15.0->tensorflow) (1.59.3)\n",
      "Requirement already satisfied: tensorboard<2.16,>=2.15 in c:\\users\\aksha\\appdata\\local\\programs\\python\\python311\\lib\\site-packages (from tensorflow-intel==2.15.0->tensorflow) (2.15.1)\n",
      "Requirement already satisfied: tensorflow-estimator<2.16,>=2.15.0 in c:\\users\\aksha\\appdata\\local\\programs\\python\\python311\\lib\\site-packages (from tensorflow-intel==2.15.0->tensorflow) (2.15.0)\n",
      "Requirement already satisfied: keras<2.16,>=2.15.0 in c:\\users\\aksha\\appdata\\local\\programs\\python\\python311\\lib\\site-packages (from tensorflow-intel==2.15.0->tensorflow) (2.15.0)\n",
      "Requirement already satisfied: wheel<1.0,>=0.23.0 in c:\\users\\aksha\\appdata\\local\\programs\\python\\python311\\lib\\site-packages (from astunparse>=1.6.0->tensorflow-intel==2.15.0->tensorflow) (0.41.3)\n",
      "Requirement already satisfied: google-auth<3,>=1.6.3 in c:\\users\\aksha\\appdata\\local\\programs\\python\\python311\\lib\\site-packages (from tensorboard<2.16,>=2.15->tensorflow-intel==2.15.0->tensorflow) (2.23.4)\n",
      "Requirement already satisfied: google-auth-oauthlib<2,>=0.5 in c:\\users\\aksha\\appdata\\local\\programs\\python\\python311\\lib\\site-packages (from tensorboard<2.16,>=2.15->tensorflow-intel==2.15.0->tensorflow) (1.1.0)\n",
      "Requirement already satisfied: markdown>=2.6.8 in c:\\users\\aksha\\appdata\\local\\programs\\python\\python311\\lib\\site-packages (from tensorboard<2.16,>=2.15->tensorflow-intel==2.15.0->tensorflow) (3.5.1)\n",
      "Requirement already satisfied: requests<3,>=2.21.0 in c:\\users\\aksha\\appdata\\local\\programs\\python\\python311\\lib\\site-packages (from tensorboard<2.16,>=2.15->tensorflow-intel==2.15.0->tensorflow) (2.31.0)\n",
      "Requirement already satisfied: tensorboard-data-server<0.8.0,>=0.7.0 in c:\\users\\aksha\\appdata\\local\\programs\\python\\python311\\lib\\site-packages (from tensorboard<2.16,>=2.15->tensorflow-intel==2.15.0->tensorflow) (0.7.2)\n",
      "Requirement already satisfied: werkzeug>=1.0.1 in c:\\users\\aksha\\appdata\\local\\programs\\python\\python311\\lib\\site-packages (from tensorboard<2.16,>=2.15->tensorflow-intel==2.15.0->tensorflow) (3.0.1)\n",
      "Requirement already satisfied: cachetools<6.0,>=2.0.0 in c:\\users\\aksha\\appdata\\local\\programs\\python\\python311\\lib\\site-packages (from google-auth<3,>=1.6.3->tensorboard<2.16,>=2.15->tensorflow-intel==2.15.0->tensorflow) (5.3.2)\n",
      "Requirement already satisfied: pyasn1-modules>=0.2.1 in c:\\users\\aksha\\appdata\\local\\programs\\python\\python311\\lib\\site-packages (from google-auth<3,>=1.6.3->tensorboard<2.16,>=2.15->tensorflow-intel==2.15.0->tensorflow) (0.3.0)\n",
      "Requirement already satisfied: rsa<5,>=3.1.4 in c:\\users\\aksha\\appdata\\local\\programs\\python\\python311\\lib\\site-packages (from google-auth<3,>=1.6.3->tensorboard<2.16,>=2.15->tensorflow-intel==2.15.0->tensorflow) (4.9)\n",
      "Requirement already satisfied: requests-oauthlib>=0.7.0 in c:\\users\\aksha\\appdata\\local\\programs\\python\\python311\\lib\\site-packages (from google-auth-oauthlib<2,>=0.5->tensorboard<2.16,>=2.15->tensorflow-intel==2.15.0->tensorflow) (1.3.1)\n",
      "Requirement already satisfied: charset-normalizer<4,>=2 in c:\\users\\aksha\\appdata\\local\\programs\\python\\python311\\lib\\site-packages (from requests<3,>=2.21.0->tensorboard<2.16,>=2.15->tensorflow-intel==2.15.0->tensorflow) (3.3.2)\n",
      "Requirement already satisfied: idna<4,>=2.5 in c:\\users\\aksha\\appdata\\local\\programs\\python\\python311\\lib\\site-packages (from requests<3,>=2.21.0->tensorboard<2.16,>=2.15->tensorflow-intel==2.15.0->tensorflow) (3.4)\n",
      "Requirement already satisfied: urllib3<3,>=1.21.1 in c:\\users\\aksha\\appdata\\local\\programs\\python\\python311\\lib\\site-packages (from requests<3,>=2.21.0->tensorboard<2.16,>=2.15->tensorflow-intel==2.15.0->tensorflow) (2.1.0)\n",
      "Requirement already satisfied: certifi>=2017.4.17 in c:\\users\\aksha\\appdata\\local\\programs\\python\\python311\\lib\\site-packages (from requests<3,>=2.21.0->tensorboard<2.16,>=2.15->tensorflow-intel==2.15.0->tensorflow) (2023.11.17)\n",
      "Requirement already satisfied: MarkupSafe>=2.1.1 in c:\\users\\aksha\\appdata\\local\\programs\\python\\python311\\lib\\site-packages (from werkzeug>=1.0.1->tensorboard<2.16,>=2.15->tensorflow-intel==2.15.0->tensorflow) (2.1.3)\n",
      "Requirement already satisfied: pyasn1<0.6.0,>=0.4.6 in c:\\users\\aksha\\appdata\\local\\programs\\python\\python311\\lib\\site-packages (from pyasn1-modules>=0.2.1->google-auth<3,>=1.6.3->tensorboard<2.16,>=2.15->tensorflow-intel==2.15.0->tensorflow) (0.5.1)\n",
      "Requirement already satisfied: oauthlib>=3.0.0 in c:\\users\\aksha\\appdata\\local\\programs\\python\\python311\\lib\\site-packages (from requests-oauthlib>=0.7.0->google-auth-oauthlib<2,>=0.5->tensorboard<2.16,>=2.15->tensorflow-intel==2.15.0->tensorflow) (3.2.2)\n",
      "Note: you may need to restart the kernel to use updated packages.\n"
     ]
    },
    {
     "name": "stderr",
     "output_type": "stream",
     "text": [
      "\n",
      "[notice] A new release of pip is available: 23.2.1 -> 23.3.1\n",
      "[notice] To update, run: python.exe -m pip install --upgrade pip\n"
     ]
    }
   ],
   "source": [
    "pip install tensorflow"
   ]
  },
  {
   "cell_type": "code",
   "execution_count": 6,
   "metadata": {},
   "outputs": [
    {
     "name": "stdout",
     "output_type": "stream",
     "text": [
      "Collecting Pillow\n",
      "  Obtaining dependency information for Pillow from https://files.pythonhosted.org/packages/b1/38/31def4109acd4db10672df6f806b175c0d21458f845ddc0890e43238ba7c/Pillow-10.1.0-cp311-cp311-win_amd64.whl.metadata\n",
      "  Downloading Pillow-10.1.0-cp311-cp311-win_amd64.whl.metadata (9.6 kB)\n",
      "Downloading Pillow-10.1.0-cp311-cp311-win_amd64.whl (2.6 MB)\n",
      "   ---------------------------------------- 0.0/2.6 MB ? eta -:--:--\n",
      "   ---------------------------------------- 0.0/2.6 MB ? eta -:--:--\n",
      "   ---------------------------------------- 0.0/2.6 MB ? eta -:--:--\n",
      "   ---------------------------------------- 0.0/2.6 MB ? eta -:--:--\n",
      "   ---------------------------------------- 0.0/2.6 MB 262.6 kB/s eta 0:00:10\n",
      "    --------------------------------------- 0.1/2.6 MB 365.7 kB/s eta 0:00:07\n",
      "   - -------------------------------------- 0.1/2.6 MB 454.0 kB/s eta 0:00:06\n",
      "   -- ------------------------------------- 0.2/2.6 MB 573.4 kB/s eta 0:00:05\n",
      "   --- ------------------------------------ 0.2/2.6 MB 724.0 kB/s eta 0:00:04\n",
      "   ---- ----------------------------------- 0.3/2.6 MB 865.8 kB/s eta 0:00:03\n",
      "   ------ --------------------------------- 0.4/2.6 MB 1.1 MB/s eta 0:00:03\n",
      "   ------- -------------------------------- 0.5/2.6 MB 1.1 MB/s eta 0:00:02\n",
      "   ------------ --------------------------- 0.8/2.6 MB 1.7 MB/s eta 0:00:02\n",
      "   --------------- ------------------------ 1.0/2.6 MB 1.9 MB/s eta 0:00:01\n",
      "   --------------------- ------------------ 1.4/2.6 MB 2.4 MB/s eta 0:00:01\n",
      "   ------------------------------- -------- 2.0/2.6 MB 3.3 MB/s eta 0:00:01\n",
      "   ------------------------------------ --- 2.4/2.6 MB 3.5 MB/s eta 0:00:01\n",
      "   ---------------------------------------- 2.6/2.6 MB 3.8 MB/s eta 0:00:00\n",
      "Installing collected packages: Pillow\n",
      "Successfully installed Pillow-10.1.0\n",
      "Note: you may need to restart the kernel to use updated packages.\n"
     ]
    },
    {
     "name": "stderr",
     "output_type": "stream",
     "text": [
      "\n",
      "[notice] A new release of pip is available: 23.2.1 -> 23.3.1\n",
      "[notice] To update, run: python.exe -m pip install --upgrade pip\n"
     ]
    }
   ],
   "source": [
    "pip install Pillow\n"
   ]
  },
  {
   "cell_type": "code",
   "execution_count": 5,
   "metadata": {},
   "outputs": [
    {
     "name": "stdout",
     "output_type": "stream",
     "text": [
      "Found 5885 images belonging to 30 classes.\n",
      "Found 1455 images belonging to 30 classes.\n"
     ]
    }
   ],
   "source": [
    "from tensorflow.keras.preprocessing.image import ImageDataGenerator\n",
    "from PIL import Image\n",
    "\n",
    "# Define data augmentation and preprocessing\n",
    "datagen = ImageDataGenerator(\n",
    "    rescale=1./255,       # Normalize pixel values to [0, 1]\n",
    "    validation_split=0.2,  # Split data into training and validation sets\n",
    ")\n",
    "\n",
    "# Load and preprocess training data\n",
    "train_generator = datagen.flow_from_directory(\n",
    "    'C:/Users/aksha/OneDrive/Documents/Sample Leaf Dataset/Medicinal Leaf Dataset/Segmented Medicinal Leaf Images',\n",
    "    target_size=(224, 224),  # Rescale images to a consistent size\n",
    "    batch_size=32,\n",
    "    class_mode='categorical',  # Use 'categorical' for multi-class classification\n",
    "    subset='training',  # Specify this is the training set\n",
    ")\n",
    "\n",
    "# Load and preprocess validation data\n",
    "validation_generator = datagen.flow_from_directory(\n",
    "    'C:/Users/aksha/OneDrive/Documents/Sample Leaf Dataset/Medicinal Leaf Dataset/Segmented Medicinal Leaf Images',\n",
    "    target_size=(224, 224),\n",
    "    batch_size=32,\n",
    "    class_mode='categorical',\n",
    "    subset='validation',  # Specify this is the validation set\n",
    ")"
   ]
  },
  {
   "cell_type": "code",
   "execution_count": 3,
   "metadata": {},
   "outputs": [
    {
     "name": "stdout",
     "output_type": "stream",
     "text": [
      "WARNING:tensorflow:From c:\\Users\\aksha\\AppData\\Local\\Programs\\Python\\Python311\\Lib\\site-packages\\keras\\src\\backend.py:873: The name tf.get_default_graph is deprecated. Please use tf.compat.v1.get_default_graph instead.\n",
      "\n",
      "WARNING:tensorflow:From c:\\Users\\aksha\\AppData\\Local\\Programs\\Python\\Python311\\Lib\\site-packages\\keras\\src\\layers\\pooling\\max_pooling2d.py:161: The name tf.nn.max_pool is deprecated. Please use tf.nn.max_pool2d instead.\n",
      "\n",
      "WARNING:tensorflow:From c:\\Users\\aksha\\AppData\\Local\\Programs\\Python\\Python311\\Lib\\site-packages\\keras\\src\\optimizers\\__init__.py:309: The name tf.train.Optimizer is deprecated. Please use tf.compat.v1.train.Optimizer instead.\n",
      "\n"
     ]
    }
   ],
   "source": [
    "from tensorflow.keras.models import Sequential\n",
    "from tensorflow.keras.layers import Conv2D, MaxPooling2D, Flatten, Dense\n",
    "\n",
    "# Create a sequential model\n",
    "model = Sequential()\n",
    "\n",
    "# Convolutional layers\n",
    "model.add(Conv2D(128, (3, 3), activation='relu', input_shape=(224, 224\n",
    "                                                             , 3)))\n",
    "model.add(MaxPooling2D((2, 2)))\n",
    "\n",
    "model.add(Conv2D(128, (3, 3), activation='relu'))\n",
    "model.add(MaxPooling2D((2, 2)))\n",
    "\n",
    "model.add(Conv2D(128, (3, 3), activation='relu'))\n",
    "model.add(MaxPooling2D((2, 2)))\n",
    "\n",
    "# Flatten the output and add fully connected layers\n",
    "model.add(Flatten())\n",
    "model.add(Dense(128, activation='relu'))\n",
    "model.add(Dense(30, activation='softmax'))  # num_classes is the number of leaf types in your dataset\n",
    "\n",
    "# Compile the model\n",
    "model.compile(optimizer='adam', loss='categorical_crossentropy', metrics=['accuracy'])\n"
   ]
  },
  {
   "cell_type": "code",
   "execution_count": 4,
   "metadata": {},
   "outputs": [
    {
     "name": "stdout",
     "output_type": "stream",
     "text": [
      "Collecting scipy\n",
      "  Obtaining dependency information for scipy from https://files.pythonhosted.org/packages/43/d0/f3cd75b62e1b90f48dbf091261b2fc7ceec14a700e308c50f6a69c83d337/scipy-1.11.4-cp311-cp311-win_amd64.whl.metadata\n",
      "  Downloading scipy-1.11.4-cp311-cp311-win_amd64.whl.metadata (60 kB)\n",
      "     ---------------------------------------- 0.0/60.4 kB ? eta -:--:--\n",
      "     ------ --------------------------------- 10.2/60.4 kB ? eta -:--:--\n",
      "     ------------ ------------------------- 20.5/60.4 kB 217.9 kB/s eta 0:00:01\n",
      "     -------------------------------- ----- 51.2/60.4 kB 375.8 kB/s eta 0:00:01\n",
      "     -------------------------------------- 60.4/60.4 kB 401.3 kB/s eta 0:00:00\n",
      "Requirement already satisfied: numpy<1.28.0,>=1.21.6 in c:\\users\\aksha\\appdata\\local\\programs\\python\\python311\\lib\\site-packages (from scipy) (1.26.2)\n",
      "Downloading scipy-1.11.4-cp311-cp311-win_amd64.whl (44.1 MB)\n",
      "   ---------------------------------------- 0.0/44.1 MB ? eta -:--:--\n",
      "   ---------------------------------------- 0.2/44.1 MB 6.9 MB/s eta 0:00:07\n",
      "    --------------------------------------- 0.8/44.1 MB 13.0 MB/s eta 0:00:04\n",
      "   - -------------------------------------- 1.4/44.1 MB 11.3 MB/s eta 0:00:04\n",
      "   - -------------------------------------- 1.9/44.1 MB 12.3 MB/s eta 0:00:04\n",
      "   -- ------------------------------------- 2.5/44.1 MB 12.3 MB/s eta 0:00:04\n",
      "   -- ------------------------------------- 3.2/44.1 MB 12.2 MB/s eta 0:00:04\n",
      "   --- ------------------------------------ 3.9/44.1 MB 12.4 MB/s eta 0:00:04\n",
      "   ---- ----------------------------------- 4.5/44.1 MB 12.4 MB/s eta 0:00:04\n",
      "   ---- ----------------------------------- 5.0/44.1 MB 12.4 MB/s eta 0:00:04\n",
      "   ----- ---------------------------------- 5.6/44.1 MB 12.3 MB/s eta 0:00:04\n",
      "   ----- ---------------------------------- 6.1/44.1 MB 12.3 MB/s eta 0:00:04\n",
      "   ------ --------------------------------- 6.7/44.1 MB 12.2 MB/s eta 0:00:04\n",
      "   ------ --------------------------------- 7.3/44.1 MB 12.2 MB/s eta 0:00:04\n",
      "   ------- -------------------------------- 7.7/44.1 MB 12.4 MB/s eta 0:00:03\n",
      "   ------- -------------------------------- 8.4/44.1 MB 12.2 MB/s eta 0:00:03\n",
      "   -------- ------------------------------- 9.0/44.1 MB 12.2 MB/s eta 0:00:03\n",
      "   -------- ------------------------------- 9.6/44.1 MB 12.2 MB/s eta 0:00:03\n",
      "   --------- ------------------------------ 10.1/44.1 MB 12.2 MB/s eta 0:00:03\n",
      "   --------- ------------------------------ 10.7/44.1 MB 12.3 MB/s eta 0:00:03\n",
      "   ---------- ----------------------------- 11.3/44.1 MB 12.9 MB/s eta 0:00:03\n",
      "   ---------- ----------------------------- 11.8/44.1 MB 12.4 MB/s eta 0:00:03\n",
      "   ----------- ---------------------------- 12.4/44.1 MB 12.4 MB/s eta 0:00:03\n",
      "   ----------- ---------------------------- 13.0/44.1 MB 12.4 MB/s eta 0:00:03\n",
      "   ------------ --------------------------- 13.5/44.1 MB 12.1 MB/s eta 0:00:03\n",
      "   ------------ --------------------------- 14.1/44.1 MB 12.1 MB/s eta 0:00:03\n",
      "   ------------- -------------------------- 14.7/44.1 MB 12.1 MB/s eta 0:00:03\n",
      "   ------------- -------------------------- 15.3/44.1 MB 12.1 MB/s eta 0:00:03\n",
      "   -------------- ------------------------- 15.8/44.1 MB 12.4 MB/s eta 0:00:03\n",
      "   -------------- ------------------------- 16.4/44.1 MB 12.1 MB/s eta 0:00:03\n",
      "   --------------- ------------------------ 16.9/44.1 MB 12.3 MB/s eta 0:00:03\n",
      "   --------------- ------------------------ 17.5/44.1 MB 12.4 MB/s eta 0:00:03\n",
      "   ---------------- ----------------------- 18.1/44.1 MB 12.6 MB/s eta 0:00:03\n",
      "   ---------------- ----------------------- 18.7/44.1 MB 12.4 MB/s eta 0:00:03\n",
      "   ----------------- ---------------------- 19.2/44.1 MB 12.4 MB/s eta 0:00:03\n",
      "   ----------------- ---------------------- 19.8/44.1 MB 12.4 MB/s eta 0:00:02\n",
      "   ------------------ --------------------- 20.4/44.1 MB 12.4 MB/s eta 0:00:02\n",
      "   ------------------ --------------------- 20.9/44.1 MB 12.1 MB/s eta 0:00:02\n",
      "   ------------------- -------------------- 21.5/44.1 MB 12.3 MB/s eta 0:00:02\n",
      "   ------------------- -------------------- 22.0/44.1 MB 12.1 MB/s eta 0:00:02\n",
      "   -------------------- ------------------- 22.6/44.1 MB 12.4 MB/s eta 0:00:02\n",
      "   --------------------- ------------------ 23.2/44.1 MB 12.4 MB/s eta 0:00:02\n",
      "   --------------------- ------------------ 23.8/44.1 MB 12.4 MB/s eta 0:00:02\n",
      "   ---------------------- ----------------- 24.3/44.1 MB 12.4 MB/s eta 0:00:02\n",
      "   ---------------------- ----------------- 24.9/44.1 MB 12.1 MB/s eta 0:00:02\n",
      "   ----------------------- ---------------- 25.5/44.1 MB 12.1 MB/s eta 0:00:02\n",
      "   ----------------------- ---------------- 26.0/44.1 MB 12.1 MB/s eta 0:00:02\n",
      "   ------------------------ --------------- 26.6/44.1 MB 12.1 MB/s eta 0:00:02\n",
      "   ------------------------ --------------- 27.1/44.1 MB 12.1 MB/s eta 0:00:02\n",
      "   ------------------------- -------------- 27.7/44.1 MB 12.1 MB/s eta 0:00:02\n",
      "   ------------------------- -------------- 28.3/44.1 MB 12.1 MB/s eta 0:00:02\n",
      "   -------------------------- ------------- 28.9/44.1 MB 12.1 MB/s eta 0:00:02\n",
      "   -------------------------- ------------- 29.4/44.1 MB 12.1 MB/s eta 0:00:02\n",
      "   --------------------------- ------------ 30.0/44.1 MB 12.1 MB/s eta 0:00:02\n",
      "   --------------------------- ------------ 30.5/44.1 MB 12.1 MB/s eta 0:00:02\n",
      "   ---------------------------- ----------- 31.1/44.1 MB 12.1 MB/s eta 0:00:02\n",
      "   ---------------------------- ----------- 31.7/44.1 MB 12.1 MB/s eta 0:00:02\n",
      "   ----------------------------- ---------- 32.2/44.1 MB 12.1 MB/s eta 0:00:01\n",
      "   ----------------------------- ---------- 32.8/44.1 MB 12.1 MB/s eta 0:00:01\n",
      "   ------------------------------ --------- 33.4/44.1 MB 12.1 MB/s eta 0:00:01\n",
      "   ------------------------------ --------- 33.9/44.1 MB 12.1 MB/s eta 0:00:01\n",
      "   ------------------------------- -------- 34.5/44.1 MB 12.1 MB/s eta 0:00:01\n",
      "   ------------------------------- -------- 35.1/44.1 MB 12.1 MB/s eta 0:00:01\n",
      "   -------------------------------- ------- 35.6/44.1 MB 12.4 MB/s eta 0:00:01\n",
      "   -------------------------------- ------- 36.2/44.1 MB 12.1 MB/s eta 0:00:01\n",
      "   --------------------------------- ------ 36.8/44.1 MB 12.3 MB/s eta 0:00:01\n",
      "   --------------------------------- ------ 37.3/44.1 MB 12.4 MB/s eta 0:00:01\n",
      "   ---------------------------------- ----- 37.9/44.1 MB 12.4 MB/s eta 0:00:01\n",
      "   ---------------------------------- ----- 38.5/44.1 MB 12.4 MB/s eta 0:00:01\n",
      "   ----------------------------------- ---- 39.0/44.1 MB 12.4 MB/s eta 0:00:01\n",
      "   ----------------------------------- ---- 39.6/44.1 MB 12.4 MB/s eta 0:00:01\n",
      "   ------------------------------------ --- 40.2/44.1 MB 12.4 MB/s eta 0:00:01\n",
      "   ------------------------------------ --- 40.7/44.1 MB 12.4 MB/s eta 0:00:01\n",
      "   ------------------------------------- -- 41.3/44.1 MB 12.3 MB/s eta 0:00:01\n",
      "   ------------------------------------- -- 41.9/44.1 MB 12.1 MB/s eta 0:00:01\n",
      "   -------------------------------------- - 42.4/44.1 MB 12.1 MB/s eta 0:00:01\n",
      "   -------------------------------------- - 43.0/44.1 MB 12.1 MB/s eta 0:00:01\n",
      "   ---------------------------------------  43.6/44.1 MB 12.1 MB/s eta 0:00:01\n",
      "   ---------------------------------------  44.1/44.1 MB 12.1 MB/s eta 0:00:01\n",
      "   ---------------------------------------  44.1/44.1 MB 12.1 MB/s eta 0:00:01\n",
      "   ---------------------------------------- 44.1/44.1 MB 10.7 MB/s eta 0:00:00\n",
      "Installing collected packages: scipy\n",
      "Successfully installed scipy-1.11.4\n",
      "Note: you may need to restart the kernel to use updated packages.\n"
     ]
    },
    {
     "name": "stderr",
     "output_type": "stream",
     "text": [
      "\n",
      "[notice] A new release of pip is available: 23.2.1 -> 23.3.1\n",
      "[notice] To update, run: python.exe -m pip install --upgrade pip\n"
     ]
    }
   ],
   "source": [
    "pip install scipy\n"
   ]
  },
  {
   "cell_type": "code",
   "execution_count": 3,
   "metadata": {},
   "outputs": [
    {
     "name": "stdout",
     "output_type": "stream",
     "text": [
      "Epoch 1/10\n",
      "WARNING:tensorflow:From c:\\Users\\aksha\\AppData\\Local\\Programs\\Python\\Python311\\Lib\\site-packages\\keras\\src\\utils\\tf_utils.py:492: The name tf.ragged.RaggedTensorValue is deprecated. Please use tf.compat.v1.ragged.RaggedTensorValue instead.\n",
      "\n",
      "WARNING:tensorflow:From c:\\Users\\aksha\\AppData\\Local\\Programs\\Python\\Python311\\Lib\\site-packages\\keras\\src\\engine\\base_layer_utils.py:384: The name tf.executing_eagerly_outside_functions is deprecated. Please use tf.compat.v1.executing_eagerly_outside_functions instead.\n",
      "\n",
      "183/183 [==============================] - 317s 2s/step - loss: 2.5621 - accuracy: 0.2672 - val_loss: 1.9934 - val_accuracy: 0.4146\n",
      "Epoch 2/10\n",
      "183/183 [==============================] - 262s 1s/step - loss: 1.3547 - accuracy: 0.5905 - val_loss: 1.6228 - val_accuracy: 0.5188\n",
      "Epoch 3/10\n",
      "183/183 [==============================] - 296s 2s/step - loss: 0.8770 - accuracy: 0.7275 - val_loss: 1.4200 - val_accuracy: 0.6243\n",
      "Epoch 4/10\n",
      "183/183 [==============================] - 290s 2s/step - loss: 0.5446 - accuracy: 0.8262 - val_loss: 1.3210 - val_accuracy: 0.6479\n",
      "Epoch 5/10\n",
      "183/183 [==============================] - 265s 1s/step - loss: 0.3468 - accuracy: 0.8843 - val_loss: 1.3425 - val_accuracy: 0.6653\n",
      "Epoch 6/10\n",
      "183/183 [==============================] - 266s 1s/step - loss: 0.2396 - accuracy: 0.9240 - val_loss: 1.5697 - val_accuracy: 0.6889\n",
      "Epoch 7/10\n",
      "183/183 [==============================] - 450s 2s/step - loss: 0.1380 - accuracy: 0.9559 - val_loss: 1.7767 - val_accuracy: 0.6458\n",
      "Epoch 8/10\n",
      "183/183 [==============================] - 394s 2s/step - loss: 0.1489 - accuracy: 0.9511 - val_loss: 1.4990 - val_accuracy: 0.7028\n",
      "Epoch 9/10\n",
      "183/183 [==============================] - 308s 2s/step - loss: 0.0745 - accuracy: 0.9790 - val_loss: 1.6912 - val_accuracy: 0.7375\n",
      "Epoch 10/10\n",
      "183/183 [==============================] - 306s 2s/step - loss: 0.0479 - accuracy: 0.9855 - val_loss: 2.2288 - val_accuracy: 0.6792\n"
     ]
    },
    {
     "data": {
      "text/plain": [
       "<keras.src.callbacks.History at 0x27f136ea010>"
      ]
     },
     "execution_count": 3,
     "metadata": {},
     "output_type": "execute_result"
    }
   ],
   "source": [
    "# Train the model\n",
    "model.fit(\n",
    "    train_generator,\n",
    "    steps_per_epoch=train_generator.samples // train_generator.batch_size,\n",
    "    epochs=10,\n",
    "    validation_data=validation_generator,\n",
    "    validation_steps=validation_generator.samples // validation_generator.batch_size,\n",
    "    # verbose=1  # Set verbose to 1 to see the training progress\n",
    ")\n"
   ]
  },
  {
   "cell_type": "code",
   "execution_count": 1,
   "metadata": {},
   "outputs": [
    {
     "name": "stdout",
     "output_type": "stream",
     "text": [
      "WARNING:tensorflow:From c:\\Users\\aksha\\AppData\\Local\\Programs\\Python\\Python311\\Lib\\site-packages\\keras\\src\\losses.py:2976: The name tf.losses.sparse_softmax_cross_entropy is deprecated. Please use tf.compat.v1.losses.sparse_softmax_cross_entropy instead.\n",
      "\n"
     ]
    }
   ],
   "source": [
    "from tensorflow.keras.preprocessing import image\n",
    "import numpy as np\n",
    "\n",
    "# Load and preprocess the input image\n",
    "img_path = 'C:/Users/aksha/Downloads/Medicinal Leaf Dataset/Medicinal Leaf Dataset/Segmented Medicinal Leaf Images/Ficus Religiosa (Peepal Tree)/FR-S-063.jpg'  # Replace with the path to your input image\n",
    "img = image.load_img(img_path, target_size=(224, 224))\n",
    "img_array = image.img_to_array(img)\n",
    "img_array = np.expand_dims(img_array, axis=0)\n",
    "img_array /= 255.  # Rescale pixel values to [0, 1]\n",
    "\n",
    "# Ensure the input image has the shape (1, 224, 224, 3) which is compatible with the model"
   ]
  },
  {
   "cell_type": "code",
   "execution_count": 7,
   "metadata": {},
   "outputs": [
    {
     "name": "stdout",
     "output_type": "stream",
     "text": [
      "1/1 [==============================] - 0s 43ms/step\n",
      "Predicted leaf type: Nerium Oleander (Oleander)\n"
     ]
    }
   ],
   "source": [
    "# Make predictions\n",
    "predictions = model.predict(img_array)\n",
    "\n",
    "# Get the class label with the highest probability\n",
    "predicted_class = np.argmax(predictions, axis=1)\n",
    "\n",
    "# Map the class index to the actual class name using the class indices from the training set\n",
    "class_indices = train_generator.class_indices  # Use the class indices from the training generator\n",
    "inverted_class_indices = dict((v, k) for k, v in class_indices.items())\n",
    "predicted_class_name = inverted_class_indices[predicted_class[0]]\n",
    "\n",
    "# Print the predicted class name\n",
    "print(\"Predicted leaf type:\", predicted_class_name)\n"
   ]
  }
 ],
 "metadata": {
  "kernelspec": {
   "display_name": "Python 3",
   "language": "python",
   "name": "python3"
  },
  "language_info": {
   "codemirror_mode": {
    "name": "ipython",
    "version": 3
   },
   "file_extension": ".py",
   "mimetype": "text/x-python",
   "name": "python",
   "nbconvert_exporter": "python",
   "pygments_lexer": "ipython3",
   "version": "3.11.5"
  }
 },
 "nbformat": 4,
 "nbformat_minor": 2
}
